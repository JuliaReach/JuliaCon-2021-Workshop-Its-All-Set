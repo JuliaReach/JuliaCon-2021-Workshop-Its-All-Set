{
 "cells": [
  {
   "cell_type": "markdown",
   "id": "0e5c01ba",
   "metadata": {},
   "source": [
    "## Future work in LazySets"
   ]
  },
  {
   "cell_type": "markdown",
   "id": "0c70615f",
   "metadata": {},
   "source": [
    "The original design of `LazySets` was not intended for a package of this size. Things actually still work pretty well, but some decisions are now limiting. Below are the most important examples:\n",
    "\n",
    "\n",
    "- The library started off for convex sets only. A while ago we have also added non-convex sets. However, we cannot let these sets subtype `LazySet` because some algorithms rely on the arguments being convex. Thus we need to revisit all the code and identify and then handle these assumptions, which is a formidable task.\n",
    "\n",
    "\n",
    "- Instead of a type hierarchy we could use traits. This would allow to only dispatch on functionality resp. assumptions that are actually required, and to integrate external structs without the need for wrapper types. But it would be quite some effort to define the most efficient method for each set operation (the type hierarchy takes most of the burden at the moment; we just need to disambiguate binary operations). When set types implement several traits (which many would do in `LazySets`), one needs to disambiguate them. For example, a `BallInf` is a ball and a hyperrectangle at the same time (and also a zonotope, a polytope, a polyhedron, a convex set, ...). Some operations may be more efficient for balls, others for hyperrectangles, and so on.\n",
    "\n",
    "\n",
    "- You can pass algorithm-specific options to many methods. Some methods do intermediate computations and internally call other methods, which take their own options. So you may want to pass the options for the inner methods to the outer method, which however is either not available or confusing. It is unclear what the best interface would be here.\n",
    "\n",
    "\n",
    "- Many users do not need the lazy paradigm and get confused when the sum of two hyperrectangles `X + Y` does not return a hyperrectangle but a `MinkowskiSum` object. It would be nice to have a global switch for interpreting the operators in a concrete way.\n",
    "\n",
    "\n",
    "- We still use `MathProgBase` and should advance to `JuMP`/`MathOptInterface`.\n",
    "\n",
    "\n",
    "- Better documentation of what you can do and how. (This notebook will hopefully be a good starting point.)\n",
    "\n",
    "\n",
    "- There are many (currently 405) open issues. Most of them are \"nice to have\" extensions."
   ]
  }
 ],
 "metadata": {
  "kernelspec": {
   "display_name": "Julia 1.6.1",
   "language": "julia",
   "name": "julia-1.6"
  },
  "language_info": {
   "file_extension": ".jl",
   "mimetype": "application/julia",
   "name": "julia",
   "version": "1.6.1"
  }
 },
 "nbformat": 4,
 "nbformat_minor": 5
}
