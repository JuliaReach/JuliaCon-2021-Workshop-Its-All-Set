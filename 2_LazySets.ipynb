{
 "cells": [
  {
   "cell_type": "code",
   "execution_count": null,
   "metadata": {},
   "outputs": [],
   "source": [
    "using LazySets\n",
    "import Plots\n",
    "using Plots: plot, plot!, text, lens!, bbox\n",
    "# custom plot shorthands\n",
    "p(args...; kwargs...) = plot(xlims=(0, 4), ylims=(0, 4), ratio=1, lab=\"\", xlab=\"x₁\", ylab=\"x₂\", args...; kwargs...)\n",
    "p!(args...; kwargs...) = plot!(lab=\"\", args...; kwargs...);"
   ]
  },
  {
   "cell_type": "markdown",
   "metadata": {},
   "source": [
    "# Introduction"
   ]
  },
  {
   "cell_type": "markdown",
   "metadata": {},
   "source": [
    "This notebook is a tutorial to [`LazySets`](https://github.com/JuliaReach/LazySets.jl).\n",
    "\n",
    "`LazySets` is a Julia library for set computations. Whenever we say **set**, we mean a *set of points* (or *vectors*).\n",
    "\n",
    "We usually consider two-dimensional points here simply because we can draw them in the plane, but everything generalizes to higher dimensions.\n",
    "\n",
    "In this section we show some simple motivating examples without explaining the details."
   ]
  },
  {
   "cell_type": "markdown",
   "metadata": {},
   "source": [
    "Let us start with three points in $\\mathbb{R}^2$: $p_1 = (1, 1)^T, p_2 = (3, 1)^T, p_3 = (2, 3)^T$"
   ]
  },
  {
   "cell_type": "code",
   "execution_count": null,
   "metadata": {},
   "outputs": [],
   "source": [
    "p1 = [1.0, 1.0]\n",
    "p2 = [3.0, 1.0]\n",
    "p3 = [2.0, 3.0];"
   ]
  },
  {
   "cell_type": "markdown",
   "metadata": {},
   "source": [
    "We can wrap these points in `Singleton` sets (sets containing exactly one point) and plot them."
   ]
  },
  {
   "cell_type": "code",
   "execution_count": null,
   "metadata": {},
   "outputs": [],
   "source": [
    "p([Singleton(p1), Singleton(p2), Singleton(p3)])"
   ]
  },
  {
   "cell_type": "markdown",
   "metadata": {},
   "source": [
    "Obviously we can do that for many more points. But say that we want to represent infinitely many points. How do we do that? A mathematician would suggest to use *set comprehension*. One goal of `LazySets` is to provide a simple and effective representation of infinite sets in a similar way. Below we give some illustrative examples."
   ]
  },
  {
   "cell_type": "markdown",
   "metadata": {},
   "source": [
    "Define the set of all points on the line segment between $p_2$ and $p_3$:\n",
    "\n",
    "$$\\{\\lambda \\cdot p_2 + (1 - \\lambda) \\cdot p_3 \\in \\mathbb{R}^2 \\mid \\lambda \\in [0, 1] \\}$$\n",
    "\n",
    "`LazySets` offers `LineSegment`, which receives the two end points."
   ]
  },
  {
   "cell_type": "code",
   "execution_count": null,
   "metadata": {},
   "outputs": [],
   "source": [
    "p(LineSegment(p2, p3))"
   ]
  },
  {
   "cell_type": "markdown",
   "metadata": {},
   "source": [
    "Define the set of all points on the three line segments between $p_1$, $p_2$, and $p_3$:\n",
    "\n",
    "$$\\{\\lambda \\cdot x + (1 - \\lambda) \\cdot y \\in \\mathbb{R}^2 \\mid \\lambda \\in [0, 1], x, y \\in \\{p_1, p_2, p_3\\} \\}$$"
   ]
  },
  {
   "cell_type": "code",
   "execution_count": null,
   "metadata": {},
   "outputs": [],
   "source": [
    "p([LineSegment(p2, p3), LineSegment(p1, p3), LineSegment(p1, p2)])"
   ]
  },
  {
   "cell_type": "markdown",
   "metadata": {},
   "source": [
    "Define the set of all points in the *polygon* spanned by $p_1$, $p_2$, and $p_3$:\n",
    "\n",
    "$$\\{\\lambda_1 \\cdot p_1 + \\lambda_2 \\cdot p_2 + \\lambda_3 \\cdot p_3 \\in \\mathbb{R}^2 \\mid \\lambda_1, \\lambda_2, \\lambda_3 \\geq 0, \\lambda_1 + \\lambda_2 + \\lambda_3 = 1 \\}$$\n",
    "\n",
    "`LazySets` offers `VPolygon`, which receives the vertices."
   ]
  },
  {
   "cell_type": "code",
   "execution_count": null,
   "metadata": {
    "scrolled": false
   },
   "outputs": [],
   "source": [
    "V = VPolygon([p1, p2, p3])\n",
    "\n",
    "p(V)\n",
    "p!([Singleton(p1), Singleton(p2), Singleton(p3)])"
   ]
  },
  {
   "cell_type": "markdown",
   "metadata": {},
   "source": [
    "All points below the line $x_2 = 3 - x_1$ (which can also be written as $x_1 + x_2 = 3$):\n",
    "\n",
    "$$\\{ (x_1, x_2)^T \\in \\mathbb{R}^2 \\mid x_1 + x_2 \\leq 3 \\}$$"
   ]
  },
  {
   "cell_type": "code",
   "execution_count": null,
   "metadata": {},
   "outputs": [],
   "source": [
    "H = HalfSpace([1.0, 1.0], 3.0)\n",
    "\n",
    "p(H)"
   ]
  },
  {
   "cell_type": "markdown",
   "metadata": {},
   "source": [
    "The intersection of the previous two sets:\n",
    "\n",
    "$$\\{\\lambda_1 \\cdot p_1 + \\lambda_2 \\cdot p_2 + \\lambda_3 \\cdot p_3 \\in \\mathbb{R}^2 \\mid \\lambda_1, \\lambda_2, \\lambda_3 \\geq 0, \\lambda_1 + \\lambda_2 + \\lambda_3 = 1 \\} \\cap \\{ (x_1, x_2)^T \\in \\mathbb{R}^2 \\mid x_1 + x_2 \\leq 3 \\}$$"
   ]
  },
  {
   "cell_type": "code",
   "execution_count": null,
   "metadata": {},
   "outputs": [],
   "source": [
    "p(H, alpha=0.2)\n",
    "p!(V, alpha=0.2)\n",
    "p!(intersection(H, V), linestyle=:dash, linewidth=2)"
   ]
  },
  {
   "cell_type": "markdown",
   "metadata": {},
   "source": [
    "The idea is to have **set primitives** to represent simple sets and to use **set operations** to create more complex sets. We will cover these in the next sections."
   ]
  },
  {
   "cell_type": "markdown",
   "metadata": {},
   "source": [
    "---"
   ]
  },
  {
   "cell_type": "markdown",
   "metadata": {},
   "source": [
    "# Set representation in `LazySets`"
   ]
  },
  {
   "cell_type": "markdown",
   "metadata": {},
   "source": [
    "The main section of this tutorial covers the representation of sets in the library."
   ]
  },
  {
   "cell_type": "markdown",
   "metadata": {},
   "source": [
    "## Closed convex sets"
   ]
  },
  {
   "cell_type": "markdown",
   "metadata": {},
   "source": [
    "In `LazySets` we only consider **closed sets**.\n",
    "\n",
    "Informally, a set $X$ is closed if it contains its boundary points. For example, the interval\n",
    "$$[1, 2] = \\{x \\in \\mathbb{R} \\mid 1 \\leq x \\leq 2\\}$$\n",
    "is closed, unlike the half-open interval\n",
    "$$(1, 2] = \\{x \\in \\mathbb{R} \\mid 1 < x \\leq 2\\}.$$"
   ]
  },
  {
   "cell_type": "markdown",
   "metadata": {},
   "source": [
    "Originally, `LazySets` was designed for **convex sets** only. Convex sets form a robust family of sets that enojy nice properties and are mostly efficient to deal with. We shall see this later.\n",
    "\n",
    "Informally, a set of points $X$ is *convex* if you can pick any two points $x, y \\in X$, connect them with a line segment, and then any point $z$ on that line segment is also contained in $X$.\n",
    "\n",
    "(Meanwhile there is also some limited support for non-convex sets in `LazySets`, but we will not cover those in this tutorial.)\n",
    "\n",
    "In the following plot, the pentagon and the square are convex, but their union is not."
   ]
  },
  {
   "cell_type": "code",
   "execution_count": null,
   "metadata": {},
   "outputs": [],
   "source": [
    "P = VPolygon([[2, 3], [3, 2], [2.5, 1], [1.5, 1], [1, 2]])\n",
    "B = BallInf([3.3, 3.3], 0.5)\n",
    "\n",
    "p(P)\n",
    "p!(B)\n",
    "\n",
    "# line segments between random points\n",
    "[p!(LineSegment(sample(P), sample(P)), alpha=1) for _ in 1:3]\n",
    "[p!(LineSegment(sample(B), sample(B)), alpha=1) for _ in 1:3]\n",
    "p!(LineSegment(sample(P), sample(B)), alpha=1, color=:red, linewidth=3)"
   ]
  },
  {
   "cell_type": "markdown",
   "metadata": {},
   "source": [
    "The hourglass below is also non-convex."
   ]
  },
  {
   "cell_type": "code",
   "execution_count": null,
   "metadata": {},
   "outputs": [],
   "source": [
    "p(UnionSet(VPolygon([[0., 4.], [2., 1.9], [4, 4.]]),\n",
    "           VPolygon([[0., 0.], [2., 2.1], [4, 0.]])))\n",
    "\n",
    "p!(LineSegment([1.8, 1.5], [2.3, 3.4]), alpha=1, color=:green, linewidth=3)\n",
    "p!(LineSegment([3, 0.5], [2.5, 2.5]), alpha=1, color=:red, linewidth=3)"
   ]
  },
  {
   "cell_type": "markdown",
   "metadata": {},
   "source": [
    "## Symbolic representation"
   ]
  },
  {
   "cell_type": "markdown",
   "metadata": {},
   "source": [
    "Mathematically, a set can be seen as a *membership predicate*. Thisis also easy to implement in basic Julia.\n",
    "\n",
    "For example, the set of non-positive numbers,\n",
    "\n",
    "$$\\{ x \\in \\mathbb{R}^n \\mid x \\leq 0 \\},$$\n",
    "\n",
    "can be represented with the predicate $P(x) = x \\leq 0$."
   ]
  },
  {
   "cell_type": "code",
   "execution_count": null,
   "metadata": {},
   "outputs": [],
   "source": [
    "predP(x) = x <= 0;"
   ]
  },
  {
   "cell_type": "code",
   "execution_count": null,
   "metadata": {},
   "outputs": [],
   "source": [
    "for i in [0, 2, -3]\n",
    "    println(\"predP($i) = $(predP(i))\")\n",
    "end"
   ]
  },
  {
   "cell_type": "markdown",
   "metadata": {},
   "source": [
    "We can even apply common set operations (like *intersection*) to predicates. For example, intersecting the above set with\n",
    "\n",
    "$$\\{ x \\in \\mathbb{R}^n : |x - 1| \\leq 1 \\}$$\n",
    "\n",
    "respectively the predicate $Q(x) = |x - 1| \\leq 1$ is achieved by just defining a new predicate $R$ for the conjunction of both predicates."
   ]
  },
  {
   "cell_type": "code",
   "execution_count": null,
   "metadata": {},
   "outputs": [],
   "source": [
    "predQ(x) = abs(x - 1) <= 1\n",
    "predR(x) = predP(x) && predQ(x);"
   ]
  },
  {
   "cell_type": "code",
   "execution_count": null,
   "metadata": {},
   "outputs": [],
   "source": [
    "for i in [0, 2, -3]\n",
    "    println(\"P($i) = $(predP(i)) \\t Q($i) = $(predQ(i)) \\t R($i) = $(predR(i))\")\n",
    "end"
   ]
  },
  {
   "cell_type": "markdown",
   "metadata": {},
   "source": [
    "The downside is that we can only use these predicates for membership queries. But we want to be able to do more complex operations on sets. So we need dedicated structs to represent common kinds of sets."
   ]
  },
  {
   "cell_type": "markdown",
   "metadata": {},
   "source": [
    "## Basic sets"
   ]
  },
  {
   "cell_type": "markdown",
   "metadata": {},
   "source": [
    "We only need a few basic set representations."
   ]
  },
  {
   "cell_type": "markdown",
   "metadata": {},
   "source": [
    "### Half-space\n",
    "\n",
    "The half-space $\\{ x \\in \\mathbb{R}^n \\mid a^T x \\leq b \\}$ is parametric in $a \\in \\mathbb{R^n}$ and $b \\in \\mathbb{R}$. Below we construct a half-space for $a = (1, 1)^T$ and $b = 2$. That corresponds to $x_1 + x_2 \\leq 2$. "
   ]
  },
  {
   "cell_type": "code",
   "execution_count": null,
   "metadata": {
    "scrolled": false
   },
   "outputs": [],
   "source": [
    "p(xlims=(0, 2), ylims=(0, 2))\n",
    "a = [1.0, 1.0]\n",
    "b = 2.0\n",
    "\n",
    "H = HalfSpace(a, b)\n",
    "\n",
    "p!(H, linewidth=4)\n",
    "\n",
    "# normal arrow\n",
    "p!([1.0, 1.5], [1.0, 1.5], linecolor=:red, arrow=:arrow,\n",
    "   linestyle=:dot, width=4, annotations=(1.15, 1.4, text(\"a\", 20)))"
   ]
  },
  {
   "cell_type": "markdown",
   "metadata": {},
   "source": [
    "Instead of defining $a$ and $b$, we can alternatively use [`Symbolics`](https://github.com/JuliaSymbolics/Symbolics.jl) to construct a half-space in a way that is sometimes more convenient. For example, the half-space above can be written as\n",
    "$$\\{ (x, y) \\in \\mathbb{R}^2 \\mid x + y \\leq 2 \\}.$$"
   ]
  },
  {
   "cell_type": "code",
   "execution_count": null,
   "metadata": {},
   "outputs": [],
   "source": [
    "using Symbolics\n",
    "var = @variables x y\n",
    "H2 = HalfSpace(x + y ≤ 2, var)"
   ]
  },
  {
   "cell_type": "markdown",
   "metadata": {},
   "source": [
    "We can let `LazySets` check that these two constructions represent the same set. (In fact, in this case they even use the same set representation.)"
   ]
  },
  {
   "cell_type": "code",
   "execution_count": null,
   "metadata": {},
   "outputs": [],
   "source": [
    "@show isequivalent(H, H2)\n",
    "println()\n",
    "@show H\n",
    "println()\n",
    "@show H2;"
   ]
  },
  {
   "cell_type": "markdown",
   "metadata": {},
   "source": [
    "The half-space is the most basic convex set. All other convex sets can be described as an (possibly infinite) intersection of half-spaces. To effectively represent common convex sets, there are many more set representations in `LazySets`. We will look at a few of them below."
   ]
  },
  {
   "cell_type": "markdown",
   "metadata": {},
   "source": [
    "### Singleton\n",
    "\n",
    "The singleton $\\{x\\}$ contains a single point $x$."
   ]
  },
  {
   "cell_type": "code",
   "execution_count": null,
   "metadata": {},
   "outputs": [],
   "source": [
    "p(Singleton([2, 2]))"
   ]
  },
  {
   "cell_type": "markdown",
   "metadata": {},
   "source": [
    "### $p$-norm balls\n",
    "\n",
    "The balls for different $p$-norms\n",
    "\n",
    "$$\\{ x \\in \\mathbb{R}^n : \\Vert x - c \\Vert_p \\leq r \\}$$\n",
    "\n",
    "are parametric in $p \\geq 1$, a center $c \\in \\mathbb{R}^n$, and a radius $r \\in \\mathbb{R}$. The balls are often useful, for example when defining simple neighborhoods. Only for $p = 1$ and $p = \\infty$ the balls have sharp corners."
   ]
  },
  {
   "cell_type": "code",
   "execution_count": null,
   "metadata": {
    "scrolled": false
   },
   "outputs": [],
   "source": [
    "p(xlims=(0, 11.5))\n",
    "p!(BallInf([1.25, 2], 1.0), annotations=(1.25, 2, text(\"∞\", 20)))\n",
    "p!(Ballp(Float64(π), [3.5, 2], 1.0), annotations=(3.5, 2, text(\"π\", 20)))\n",
    "p!(Ball2([5.75, 2], 1.0), annotations=(5.75, 2, text(\"2\", 20)))\n",
    "p!(Ballp(1.5, [8.0, 2], 1.0), annotations=(8, 2, text(\"1.5\", 20)))\n",
    "p!(Ball1([10.25, 2], 1.0), annotations=(10.25, 2, text(\"1\", 20)))"
   ]
  },
  {
   "cell_type": "markdown",
   "metadata": {},
   "source": [
    "It is important to note that so far we have really just created objects that wrap the parameters. There are no computations going on (at least until the call to `plot`)."
   ]
  },
  {
   "cell_type": "code",
   "execution_count": null,
   "metadata": {
    "scrolled": true
   },
   "outputs": [],
   "source": [
    "@time B = Ballp(1.5, [3.5, 2], 1.0)\n",
    "\n",
    "dump(B)"
   ]
  },
  {
   "cell_type": "markdown",
   "metadata": {},
   "source": [
    "The symbolic representation allows to construct sets that would be prohibitively complex in other representations (e.g., as polytopes as discussed later). For example, a `BallInf` (hypercube) in $n$ dimensions has $2^n$ vertices."
   ]
  },
  {
   "cell_type": "code",
   "execution_count": null,
   "metadata": {},
   "outputs": [],
   "source": [
    "@time B = BallInf(zeros(1000), 1.0)\n",
    "\n",
    "dump(B)"
   ]
  },
  {
   "cell_type": "markdown",
   "metadata": {},
   "source": [
    "## Set operations (concrete/explicit)"
   ]
  },
  {
   "cell_type": "markdown",
   "metadata": {},
   "source": [
    "We can apply set operations to the above basic sets to construct more complex sets. Here we restrict ourselves to the most common ones: *translation, Minkowski sum, linear (and affine) map, convex hull, intersection, and Cartesian product*.\n",
    "\n",
    "A nice property of *convex* sets is that, if you apply these operations to convex sets, you get a convex set again. However, in general we do not have an effective set representation for the result (but we will later see a practical way around).\n",
    "\n",
    "`LazySets` support for these set operations (in an explicit way) is thus mostly restricted to the robust subclass of **(convex) polyhedra**. A convex polyhedron is the intersection of finitely many half-spaces. An important special case is the *bounded* **(convex) polytope**, which can alternatively be characterized by finitely many vertices/corners.\n",
    "We will cover polyhedra later. (Note that some communities have different meanings of the terms *polyhedron* and *polytope*, including Wikipedia.)"
   ]
  },
  {
   "cell_type": "markdown",
   "metadata": {},
   "source": [
    "### Translation"
   ]
  },
  {
   "cell_type": "markdown",
   "metadata": {},
   "source": [
    "Given a set $X$ and a vector $v$, a *translation* is a shift of each element in $X$ by $v$."
   ]
  },
  {
   "cell_type": "code",
   "execution_count": null,
   "metadata": {},
   "outputs": [],
   "source": [
    "X = BallInf([1.5, 2.0], 1.0)\n",
    "v = [1.5, -1.0]\n",
    "Y = translate(X, v)\n",
    "\n",
    "# arrows\n",
    "p([0, v[1]], [0, v[2]], linecolor=:gray, arrow=:arrow, linestyle=:dot, width=2)\n",
    "p!([high(X, 1), high(Y, 1)], [high(X, 2), high(Y, 2)], linecolor=:gray,\n",
    "   arrow=:arrow, linestyle=:dot, width=2)\n",
    "p!([center(X, 1), center(Y, 1)], [center(X, 2), center(Y, 2)], linecolor=:gray,\n",
    "    arrow=:arrow, linestyle=:dot, width=2)\n",
    "\n",
    "# sets\n",
    "p!(X, lab=\"X\")\n",
    "p!(Singleton(v), alpha=0.8, lab=\"v\")\n",
    "p!(Y, lab=\"X + v\")"
   ]
  },
  {
   "cell_type": "markdown",
   "metadata": {},
   "source": [
    "### Minkowski sum"
   ]
  },
  {
   "cell_type": "markdown",
   "metadata": {},
   "source": [
    "We can take the elementwise sum of two sets $X$ and $Y$:\n",
    "\n",
    "$$X \\oplus Y = \\{ x + y \\mid x \\in X, y \\in Y \\}$$"
   ]
  },
  {
   "cell_type": "markdown",
   "metadata": {},
   "source": [
    "For example, we can imitate the *translation* by taking the Minkowski sum with a singleton."
   ]
  },
  {
   "cell_type": "code",
   "execution_count": null,
   "metadata": {},
   "outputs": [],
   "source": [
    "X = BallInf([1.5, 2.0], 1.0)\n",
    "v = [2.5, -1.0]\n",
    "Y = minkowski_sum(X, Singleton(v))\n",
    "\n",
    "@show isequivalent(Y, translate(X, v));"
   ]
  },
  {
   "cell_type": "markdown",
   "metadata": {},
   "source": [
    "Or we can \"bloat\" a set by adding a ball centered in the origin:"
   ]
  },
  {
   "cell_type": "code",
   "execution_count": null,
   "metadata": {},
   "outputs": [],
   "source": [
    "X = Ball1([1.5, 2.5], 1.0)\n",
    "Y = BallInf([0.0, 0.0], 0.5)\n",
    "Z = minkowski_sum(X, Y)\n",
    "\n",
    "p(X, lab=\"X\", leg=:bottomright)\n",
    "p!(Y, lab=\"Y\")\n",
    "p!(Z, lab=\"X ⊕ Y\")"
   ]
  },
  {
   "cell_type": "markdown",
   "metadata": {},
   "source": [
    "In general the sum of two sets can get pretty complicated:"
   ]
  },
  {
   "cell_type": "code",
   "execution_count": null,
   "metadata": {},
   "outputs": [],
   "source": [
    "X = VPolygon([[1.0, 1.0], [3.0, 1.0], [2.0, 2.0]])\n",
    "Y = VPolygon([[0.5, 1.5], [0.5, 2.0], [1.0, 2.0]])\n",
    "Z = minkowski_sum(X, Y)\n",
    "\n",
    "p(X, lab=\"X\", leg=:topleft)\n",
    "p!(Y, lab=\"Y\")\n",
    "p!(Z, lab=\"X ⊕ Y\")"
   ]
  },
  {
   "cell_type": "markdown",
   "metadata": {},
   "source": [
    "### Linear map"
   ]
  },
  {
   "cell_type": "markdown",
   "metadata": {},
   "source": [
    "We can transform each element of a set $X$ via a matrix $M$:\n",
    "\n",
    "$$M \\cdot X = \\{ M \\cdot x \\mid x \\in X \\}$$"
   ]
  },
  {
   "cell_type": "markdown",
   "metadata": {},
   "source": [
    "A common case is the invertible map, which can rotate, shrink/enlarge, and move a set."
   ]
  },
  {
   "cell_type": "code",
   "execution_count": null,
   "metadata": {
    "scrolled": false
   },
   "outputs": [],
   "source": [
    "X = BallInf([1.0, 1.5], 0.5)\n",
    "M = [2 0.5; 0 1.5]\n",
    "Z = linear_map(M, X)\n",
    "\n",
    "p(X, lab=\"X\", leg=:topleft)\n",
    "p!(Z, lab=\"M ⋅ X\")"
   ]
  },
  {
   "cell_type": "markdown",
   "metadata": {},
   "source": [
    "Another common case is the projection, which is particularly useful to plot higher-dimensional sets in the plane. There is also a convenience function `project` for this purpose."
   ]
  },
  {
   "cell_type": "code",
   "execution_count": null,
   "metadata": {
    "scrolled": false
   },
   "outputs": [],
   "source": [
    "X = BallInf([2.5, 2.0], 1.0)\n",
    "Z1 = linear_map([1.0 0;], X)\n",
    "@show isequivalent(Z1, project(X, [1]))\n",
    "\n",
    "println()\n",
    "Z2 = linear_map([0.0 1;], X)\n",
    "@show isequivalent(Z2, project(X, [2]))\n",
    "\n",
    "println()\n",
    "@show dim(Z1) == dim(Z2) == 1\n",
    "\n",
    "# in order to plot the one-dimensional sets in the\n",
    "# correct dimension, we embed them in two dimensions\n",
    "M1 = [1.0 0; 0 0]\n",
    "Z1_2d = linear_map(M1, X)\n",
    "M2 = [0.0 0; 0 1]\n",
    "Z2_2d = linear_map(M2, X)\n",
    "\n",
    "p(X, lab=\"X\")\n",
    "p!(Z1_2d, linewidth=3, alpha=1, lab=\"M1 ⋅ X\")\n",
    "p!(Z2_2d, linewidth=3, alpha=1, lab=\"M2 ⋅ X\")"
   ]
  },
  {
   "cell_type": "markdown",
   "metadata": {},
   "source": [
    "### Affine map"
   ]
  },
  {
   "cell_type": "markdown",
   "metadata": {},
   "source": [
    "An affine map is just the combination of a linear map and a translation. It occurs commonly in many applications.\n",
    "\n",
    "$$M \\cdot X + v$$"
   ]
  },
  {
   "cell_type": "code",
   "execution_count": null,
   "metadata": {},
   "outputs": [],
   "source": [
    "X = BallInf([0.75, 1.5], 0.4)\n",
    "M = [2 0.5; 0 1.5]\n",
    "v = [0.5, 0.5]\n",
    "\n",
    "Y = linear_map(M, X)\n",
    "Z = affine_map(M, X, v)\n",
    "\n",
    "# check that the set `affine_map(M, X, v)` is (mathematically)\n",
    "# the same as `translate(linear_map(M, X), v)`\n",
    "@show isequivalent(Z, translate(Y, v))\n",
    "\n",
    "p(X, lab=\"X\", leg=:bottomright)\n",
    "p!(Singleton(v), lab=\"v\")\n",
    "p!(Y, lab=\"M ⋅ X\")\n",
    "p!(Z, lab=\"M ⋅ X + v\")\n",
    "\n",
    "# arrow\n",
    "p!([0, v[1]], [0, v[2]], linecolor=:gray, arrow=:arrow, linestyle=:dot, width=2)\n",
    "p!(center(Y), center(Z), linecolor=:gray, arrow=:arrow, linestyle=:dot, width=2)"
   ]
  },
  {
   "cell_type": "markdown",
   "metadata": {},
   "source": [
    "### Convex hull"
   ]
  },
  {
   "cell_type": "markdown",
   "metadata": {},
   "source": [
    "The convex hull of a set $X$ is the smallest convex set that contains $X$.\n",
    "\n",
    "`LazySets` only offers a binary operation `convex_hull(X, Y)` (remember that originally there was only support for convex sets), which is interpreted as the convex hull of the union of `X` and `Y`."
   ]
  },
  {
   "cell_type": "code",
   "execution_count": null,
   "metadata": {
    "scrolled": false
   },
   "outputs": [],
   "source": [
    "X = VPolygon([[1.0, 1.0], [3.0, 1.0], [2.0, 2.0]])\n",
    "Y = VPolygon([[0.5, 1.5], [0.5, 2.0], [1.0, 2.0]])\n",
    "Z = minkowski_sum(X, Y)\n",
    "W = convex_hull(X, convex_hull(Y, Z))\n",
    "\n",
    "p(W, lab=\"CH(X ∪ Y ∪ (X ⊕ Y))\", leg=:outerright)\n",
    "p!(X, lab=\"X\")\n",
    "p!(Y, lab=\"Y\")\n",
    "p!(Z, lab=\"X ⊕ Y\")"
   ]
  },
  {
   "cell_type": "markdown",
   "metadata": {},
   "source": [
    "### Intersection"
   ]
  },
  {
   "cell_type": "markdown",
   "metadata": {},
   "source": [
    "The intersection of two sets $X$ and $Y$ consists of the common points:\n",
    "\n",
    "$$X \\cap Y = \\{ x \\in \\mathbb{R}^n \\mid x \\in X, x \\in Y \\}$$"
   ]
  },
  {
   "cell_type": "markdown",
   "metadata": {},
   "source": [
    "The result may be empty if the sets do not intersect:"
   ]
  },
  {
   "cell_type": "code",
   "execution_count": null,
   "metadata": {},
   "outputs": [],
   "source": [
    "X = BallInf([1.0, 1.0], 0.5)\n",
    "Y = Ball1([2.5, 2.5], 1.0)\n",
    "@show intersection(X, Y)\n",
    "\n",
    "p(X, lab=\"X\")\n",
    "p!(Y, lab=\"Y\")"
   ]
  },
  {
   "cell_type": "markdown",
   "metadata": {},
   "source": [
    "Otherwise we get the proper intersection:"
   ]
  },
  {
   "cell_type": "code",
   "execution_count": null,
   "metadata": {},
   "outputs": [],
   "source": [
    "X = BallInf([1.0, 1.0], 0.75)\n",
    "Y = Ball1([2.0, 2.0], 1.0)\n",
    "Z = intersection(X, Y)\n",
    "\n",
    "p(X, lab=\"X\")\n",
    "p!(Y, lab=\"Y\")\n",
    "p!(Z, lab=\"X ∩ Y\", linestyle=:dash, linewidth=2)"
   ]
  },
  {
   "cell_type": "markdown",
   "metadata": {},
   "source": [
    "### Cartesian product"
   ]
  },
  {
   "cell_type": "markdown",
   "metadata": {},
   "source": [
    "The Cartesian product of two sets $X$ and $Y$ \"glues\" all pairs of points together:\n",
    "\n",
    "$$X \\times Y = \\{ (x, y) \\mid x \\in X, y \\in Y \\}$$"
   ]
  },
  {
   "cell_type": "markdown",
   "metadata": {},
   "source": [
    "In the special case that both sets are intervals, the result is simply a rectangle:"
   ]
  },
  {
   "cell_type": "code",
   "execution_count": null,
   "metadata": {},
   "outputs": [],
   "source": [
    "X = Interval(1.5, 3.5)\n",
    "Y = Interval(1.0, 3.0)\n",
    "Z = cartesian_product(X, Y)\n",
    "\n",
    "p(Z, lab=\"X × Y\")\n",
    "p!(X × ZeroSet(1), linewidth=3, alpha=1, lab=\"X\")\n",
    "p!(ZeroSet(1) × Y, linewidth=3, alpha=1, lab=\"Y\")"
   ]
  },
  {
   "cell_type": "markdown",
   "metadata": {},
   "source": [
    "## Polyhedral computations"
   ]
  },
  {
   "cell_type": "markdown",
   "metadata": {},
   "source": [
    "For performing polyhedral computations in higher dimensions, `LazySets` relies on the [`Polyhedra`](https://github.com/JuliaPolyhedra/Polyhedra.jl) library.\n",
    "\n",
    "The theory of polyhedra relies on solving linear programs (LPs) and `Polyhedra` is generic in the choice of the LP solver. We use [`CDDLib`](https://github.com/JuliaPolyhedra/CDDLib.jl) since it is fast and robust."
   ]
  },
  {
   "cell_type": "code",
   "execution_count": null,
   "metadata": {},
   "outputs": [],
   "source": [
    "import Polyhedra, CDDLib"
   ]
  },
  {
   "cell_type": "markdown",
   "metadata": {},
   "source": [
    "The main idea of polyhedral libraries is to work with two dual representations of polyhedra: the *half-space representation* (H-rep, also called *constraint representation*) and the *vertex representation* (V-rep, also called *generator representation*). `Polyhedra` hides these technicalities from the user. In `LazySets` instead you need to choose from the following three set types:\n",
    "\n",
    "- `HPolyhedron` for general (unbounded) polyhedra in H-rep\n",
    "- `HPolytope` for (bounded) polytopes in H-rep\n",
    "- `VPolytope` for (bounded) polytopes in V-rep\n",
    "\n",
    "Note that there is no support for unbounded V-rep in `LazySets` (but in `Polyhedra`).\n",
    "\n",
    "Internally, `HPolyhedron` and `HPolytope` look the same. The only difference is that `HPolytope` stores the information that the set is bounded (which is *not* checked at construction time).\n",
    "\n",
    "We can conveniently convert between the dual representations via `tohrep`/`tovrep`. Below is the same polytope represented in V-rep and H-rep:"
   ]
  },
  {
   "cell_type": "code",
   "execution_count": null,
   "metadata": {},
   "outputs": [],
   "source": [
    "Pv = VPolytope([[1.0, 1.0], [3.0, 1.0], [2.0, 3.0]])\n",
    "\n",
    "Ph = HPolytope([HalfSpace([2.0, 1.0], 7.0),\n",
    "                HalfSpace([-2.0, 1.0], -1.0),\n",
    "                HalfSpace([0.0, -1.0], -1.0)])\n",
    "\n",
    "@show isequivalent(Ph, tohrep(Pv))\n",
    "@show isequivalent(Pv, tovrep(Ph))\n",
    "\n",
    "p1 = p()\n",
    "plot!(p1, Pv)\n",
    "plot!(p1, singleton_list(Pv), seriestype=:scatter, markersize=5, markercolor=:red)\n",
    "\n",
    "p2 = p()\n",
    "plot!(p2, Ph)\n",
    "[plot!(p2, Hyperplane(c.a, c.b), linewidth=3, color=:red) for c in constraints_list(Ph)]\n",
    "\n",
    "plot(p1, p2, layout = (1, 2))"
   ]
  },
  {
   "cell_type": "markdown",
   "metadata": {},
   "source": [
    "Below we first compute the intersection of a cube with a three-dimensional triangle and then project the three sets to dimension $1$ and $3$."
   ]
  },
  {
   "cell_type": "code",
   "execution_count": null,
   "metadata": {
    "scrolled": false
   },
   "outputs": [],
   "source": [
    "X = HPolyhedron([HalfSpace([1.0, 0.0, 0.0], 1.0), HalfSpace([-1.0, 0.0, 0.0], 0.0),\n",
    "                 HalfSpace([0.0, 1.0, 0.0], 1.0), HalfSpace([0.0, -1.0, 0.0], 0.0),\n",
    "                 HalfSpace([0.0, 0.0, 1.0], 1.0), HalfSpace([0.0, 0.0, -1.0], 0.0)])\n",
    "Y = VPolytope([zeros(3), 3 * ones(3), [1.0, 2.0, 3.0]])\n",
    "Z = intersection(X, Y)\n",
    "dims = [1, 3]\n",
    "\n",
    "p(project(X, dims), lab=\"proj(X)\", xlab=\"x₁\", ylab=\"x₃\")\n",
    "p!(project(Y, dims), lab=\"proj(Y)\")\n",
    "p!(project(Z, dims), lab=\"proj(X ∩ Y)\", linestyle=:dash, linewidth=2)"
   ]
  },
  {
   "cell_type": "markdown",
   "metadata": {},
   "source": [
    "The intersection is generally computed in H-rep. Since intersection with a bounded set is always bounded, `LazySets` creates an `HPolytope`."
   ]
  },
  {
   "cell_type": "code",
   "execution_count": null,
   "metadata": {},
   "outputs": [],
   "source": [
    "typeof(Z)"
   ]
  },
  {
   "cell_type": "markdown",
   "metadata": {},
   "source": [
    "We can compute the half-spaces/constraints of polyhedral sets:"
   ]
  },
  {
   "cell_type": "code",
   "execution_count": null,
   "metadata": {},
   "outputs": [],
   "source": [
    "constraints_list(Z)"
   ]
  },
  {
   "cell_type": "markdown",
   "metadata": {},
   "source": [
    "Similarly, we can compute the vertices of polytopic sets:"
   ]
  },
  {
   "cell_type": "code",
   "execution_count": null,
   "metadata": {},
   "outputs": [],
   "source": [
    "vertices_list(Z)"
   ]
  },
  {
   "cell_type": "markdown",
   "metadata": {},
   "source": [
    "## Other set representations"
   ]
  },
  {
   "cell_type": "markdown",
   "metadata": {},
   "source": [
    "### Hyperrectangle"
   ]
  },
  {
   "cell_type": "markdown",
   "metadata": {},
   "source": [
    "A rectangle is a special case of a linear map (scaling) applied to a square. This generalizes to higher dimensions. In `LazySets`, a *hyperrectangle* is represented by a center point and a radius in each dimension, but there is also a constructor from the lower and upper vertex:"
   ]
  },
  {
   "cell_type": "code",
   "execution_count": null,
   "metadata": {
    "scrolled": false
   },
   "outputs": [],
   "source": [
    "c = [2.0, 1.5]\n",
    "r = [1.5, 0.5]\n",
    "H1 = Hyperrectangle(c, r)\n",
    "H2 = Hyperrectangle(low=[0.5, 1], high=[3.5, 2])\n",
    "\n",
    "@show isequivalent(H1, H2)\n",
    "\n",
    "p(H1)\n",
    "p!(Singleton(c))\n",
    "p!([c[1], c[1]], [c[2], c[2] + r[2]], linecolor=:gray, arrow=:arrow, linestyle=:dot, width=2)\n",
    "p!([c[1], c[1] + r[1]], [c[2], c[2]], linecolor=:gray, arrow=:arrow, linestyle=:dot, width=2)"
   ]
  },
  {
   "cell_type": "markdown",
   "metadata": {},
   "source": [
    "### Polygons"
   ]
  },
  {
   "cell_type": "markdown",
   "metadata": {},
   "source": [
    "Polytopes in two dimensions are called *polygons* and can be handled efficiently. In `LazySets`, there are special set types `HPolygon` resp. `VPolygon` for this purpose. They sort the constraints resp. vertices on the plane (which is not possible in higher dimensions).\n",
    "\n",
    "Below we evaluate the same operations for specialized polygon types and general polytope types. As we see, in two dimensions these operations can be implemented much faster.\n",
    "\n",
    "H-rep:"
   ]
  },
  {
   "cell_type": "code",
   "execution_count": null,
   "metadata": {},
   "outputs": [],
   "source": [
    "# polygon representation with 30 half-spaces\n",
    "PH_gon1 = rand(HPolygon, num_constraints=30)\n",
    "PH_gon2 = linear_map([1.01 0; 0 0.99], PH_gon1)\n",
    "@time PH_gon = intersection(PH_gon1, PH_gon2)\n",
    "\n",
    "# general polytope representation\n",
    "PH_tope1 = convert(HPolytope, PH_gon1)\n",
    "PH_tope2 = convert(HPolytope, PH_gon2)\n",
    "@time PH_tope = intersection(PH_tope1, PH_tope2)\n",
    "\n",
    "p1 = plot(PH_gon, lab=\"polygon\")\n",
    "p2 = plot(PH_tope, color=:red, lab=\"polytope\")\n",
    "plot(p1, p2, layout = (1, 2))"
   ]
  },
  {
   "cell_type": "markdown",
   "metadata": {},
   "source": [
    "V-rep:"
   ]
  },
  {
   "cell_type": "code",
   "execution_count": null,
   "metadata": {},
   "outputs": [],
   "source": [
    "# polygon representation with 5000 vertices\n",
    "PV_gon1 = rand(VPolygon, num_vertices=5000)\n",
    "PV_gon2 = linear_map([1.01 0; 0 0.99], PV_gon1)\n",
    "@time PV_gon = minkowski_sum(PV_gon1, PV_gon2)\n",
    "\n",
    "# general polytope representation\n",
    "PV_tope1 = convert(VPolytope, PV_gon1)\n",
    "PV_tope2 = convert(VPolytope, PV_gon2)\n",
    "@time PV_tope = minkowski_sum(PV_tope1, PV_tope2)\n",
    "\n",
    "p1 = plot(PV_gon, lab=\"polygon\")\n",
    "p2 = plot(PV_tope, color=:red, lab=\"polytope\")\n",
    "plot(p1, p2, layout = (1, 2))"
   ]
  },
  {
   "cell_type": "markdown",
   "metadata": {},
   "source": [
    "## Zonotope"
   ]
  },
  {
   "cell_type": "markdown",
   "metadata": {},
   "source": [
    "A *zonotope* $Z$ is a general linear map applied to a (hyper)cube. By the nature of linear maps, that makes a zonotope a centrally symmetric convex polytope. (In two dimensions these notions even coincide.)\n",
    "\n",
    "Alternatively, a zonotope can be characterized as a Minkowski sum of line segments, or by a center point $c \\in \\mathbb{R}^n$ and a sum of $p$ *generators* $g_j \\in \\mathbb{R}^n$:\n",
    "\n",
    "$$Z = \\{ c + \\sum_{j=1}^p \\xi_j \\cdot g_j \\mid \\xi_j \\in [-1, 1] \\}$$\n",
    "\n",
    "In `LazySets`, the generator representation is used, and the generators $g_j$ are stored as the columns of a matrix.\n",
    "\n",
    "The *order* of a zonotope is the ratio $\\dfrac{p}{n}$ of the number of generators $p$ and the dimension $n$."
   ]
  },
  {
   "cell_type": "code",
   "execution_count": null,
   "metadata": {},
   "outputs": [],
   "source": [
    "c = [2.0, 2.0]\n",
    "g1 = [1, 0]\n",
    "g2 = [0.5, 1]\n",
    "G = hcat(g1, g2)\n",
    "Z = Zonotope(c, G)\n",
    "\n",
    "p(Z)\n",
    "p!(Singleton(c))\n",
    "p!([c[1], c[1] + g1[1]], [c[2], c[2] + g1[2]], linecolor=:red, arrow=:arrow,\n",
    "    linestyle=:dot, width=2, annotations=(2.5, 1.7, text(\"g₁\", 20)))\n",
    "p!([c[1], c[1] + g2[1]], [c[2], c[2] + g2[2]], linecolor=:red, arrow=:arrow,\n",
    "    linestyle=:dot, width=2, annotations=(1.9, 2.5, text(\"g₂\", 20)))"
   ]
  },
  {
   "cell_type": "markdown",
   "metadata": {},
   "source": [
    "Zonotopes are interesting because they are efficient and closed under Minkowski sum and linear map."
   ]
  },
  {
   "cell_type": "code",
   "execution_count": null,
   "metadata": {},
   "outputs": [],
   "source": [
    "M = [-0.3 0; 0 -0.6]\n",
    "Z2 = linear_map(M, Z)\n",
    "dump(Z2)\n",
    "\n",
    "println()\n",
    "Z3 = minkowski_sum(Z2, Z)\n",
    "dump(Z3)\n",
    "\n",
    "p(Z, lab=\"Z\", leg=:topleft)\n",
    "p!(Z2, lab=\"MZ\")\n",
    "p!(Z3, lab=\"MZ ⊕ Z\")"
   ]
  },
  {
   "cell_type": "markdown",
   "metadata": {},
   "source": [
    "### Interval"
   ]
  },
  {
   "cell_type": "markdown",
   "metadata": {},
   "source": [
    "In one dimension there is only one bounded convex set: the interval. `LazySets` has a special type `Interval` for representing intervals. This type wraps an `IntervalArithmetic.Interval`, so computations enjoy certain features such as conservative rounding."
   ]
  },
  {
   "cell_type": "code",
   "execution_count": null,
   "metadata": {},
   "outputs": [],
   "source": [
    "Interval(1/3, 9/5)"
   ]
  },
  {
   "cell_type": "markdown",
   "metadata": {},
   "source": [
    "### Hyperplanes and lines"
   ]
  },
  {
   "cell_type": "markdown",
   "metadata": {},
   "source": [
    "A *hyperplane* is the set $a \\cdot x = b$."
   ]
  },
  {
   "cell_type": "code",
   "execution_count": null,
   "metadata": {},
   "outputs": [],
   "source": [
    "a = [1/3, 0.5]\n",
    "b = 1.0\n",
    "H = Hyperplane(a, b)\n",
    "\n",
    "p(H, linewidth=3)"
   ]
  },
  {
   "cell_type": "markdown",
   "metadata": {},
   "source": [
    "A *line* is a hyperplane in two dimensions. `LazySets` provides the `Line2D` type.\n",
    "There is also the more general `Line`, which can also have higher dimension and is characterized by a point `p` on the line and a direction `d`."
   ]
  },
  {
   "cell_type": "code",
   "execution_count": null,
   "metadata": {},
   "outputs": [],
   "source": [
    "L2 = Line2D(a, b)\n",
    "L = Line([0.0, 2.0], [3.0, -2.0])\n",
    "@show isequivalent(H, L2) && isequivalent(L2, L);"
   ]
  },
  {
   "cell_type": "markdown",
   "metadata": {},
   "source": [
    "### Line segment"
   ]
  },
  {
   "cell_type": "markdown",
   "metadata": {},
   "source": [
    "A line segment in two dimensions has its own representation: a `LineSegment` is characterized by the two bounding vertices."
   ]
  },
  {
   "cell_type": "code",
   "execution_count": null,
   "metadata": {},
   "outputs": [],
   "source": [
    "LS = LineSegment([1.0, 2.0], [2.5, 3.5])\n",
    "\n",
    "p(LS, linewidth=3)"
   ]
  },
  {
   "cell_type": "markdown",
   "metadata": {},
   "source": [
    "### Empty set\n",
    "\n",
    "The empty set $\\{\\}$ is quite boring, but useful as a result of set operations such as intersection."
   ]
  },
  {
   "cell_type": "code",
   "execution_count": null,
   "metadata": {},
   "outputs": [],
   "source": [
    "EmptySet(2)"
   ]
  },
  {
   "cell_type": "markdown",
   "metadata": {},
   "source": [
    "### Parallelotope"
   ]
  },
  {
   "cell_type": "markdown",
   "metadata": {},
   "source": [
    "*Parallelotopes* are zonotopes with 2 parallel constraints per dimension. In `LazySets` they are represented in constraint representation by storing the directions $D$ together with offsets $o$.\n",
    "\n",
    "$$-D_i ⋅ x ≤ -o_i \\quad \\text{ and} \\quad D_i ⋅ x ≤ -o_{n+i}$$"
   ]
  },
  {
   "cell_type": "code",
   "execution_count": null,
   "metadata": {},
   "outputs": [],
   "source": [
    "H = [1.0 1.0; 0.0 1.0]\n",
    "o = [2.5, 2.0, 4.0, -1.0]\n",
    "Pl = HParallelotope(H, o)\n",
    "\n",
    "p(Pl, xlim=(-8, 4), ylim=(0, 4))\n",
    "p!([1, 1 + H[1, 1]], [1.5, 1.5 + H[1, 2]], linecolor=:red, arrow=:arrow, linestyle=:dot, width=2,\n",
    "    annotations=(2.4, 1.7, text(\"D₁\", 20)), lab=\"\")\n",
    "p!([-2, -2 + H[2, 1]], [2, 2 + H[2, 2]], linecolor=:red, arrow=:arrow, linestyle=:dot, width=2,\n",
    "    annotations=(-1.1, 2.5, text(\"D₂\", 20)), lab=\"\")\n",
    "#p!(HalfSpace(-H[1, :], -o[1]), alpha=0.2, color=:cyan)\n",
    "#p!(HalfSpace(-H[2, :], -o[2]), alpha=0.2, color=:yellow)\n",
    "#p!(HalfSpace(H[1, :], -o[3]), alpha=0.2, color=:green)\n",
    "#p!(HalfSpace(H[2, :], -o[4]), alpha=0.2, color=:orange)"
   ]
  },
  {
   "cell_type": "markdown",
   "metadata": {},
   "source": [
    "### Ellipsoid"
   ]
  },
  {
   "cell_type": "markdown",
   "metadata": {},
   "source": [
    "An invertible affine map applied to a Euclidean ball yields an *ellipsoid*. `LazySets` uses the common ellipsoid representation with a positive definite matrix $Q$ and center $c$:\n",
    "\n",
    "$$\\{ x ∈ \\mathbb{R}^n : (x-c)^T Q^{-1} (x-c) ≤ 1 \\}$$"
   ]
  },
  {
   "cell_type": "code",
   "execution_count": null,
   "metadata": {},
   "outputs": [],
   "source": [
    "c = [2.0, 2.0]\n",
    "Q = [1.0 -1.0; -1.0 2.0]\n",
    "E = Ellipsoid(c, Q)\n",
    "\n",
    "p(E)"
   ]
  },
  {
   "cell_type": "markdown",
   "metadata": {},
   "source": [
    "## Lazy set representation"
   ]
  },
  {
   "cell_type": "markdown",
   "metadata": {},
   "source": [
    "With *polyhedral sets* we have a class of sets that is closed under the operations we have seen. This is great because you need not think about how to represent the result.\n",
    "\n",
    "As already mentioned before, the more general class of *convex sets* is also closed under these operations, but we can typically not represent the result with the limited amount of set types in `LazySets`. This is not a shortcoming of `LazySets`: you would need infinitely many set representations for all possible combinations. However, we shall now resort to a simple yet powerful trick to achieve at least a similar result.\n",
    "\n",
    "We can represent the operation lazily. That means: we wrap the operands in a new object that, by definition, represents the result of the operation, but without actually performing the computation. (This also motivates the name of `LazySets`!)\n",
    "\n",
    "To give an example, the Minkowski sum of a square and a disc (balls in the infinity norm and Euclidean norm) is not representable in `LazySets`:"
   ]
  },
  {
   "cell_type": "code",
   "execution_count": null,
   "metadata": {},
   "outputs": [],
   "source": [
    "X = Ball2([1.0, 1.0], 0.25)\n",
    "Y = BallInf([2.0, 1.0], 0.25)\n",
    "try minkowski_sum(X, Y) catch; println(\"N/A\") end"
   ]
  },
  {
   "cell_type": "markdown",
   "metadata": {},
   "source": [
    " Still, we can just wrap the sets in a `MinkowskiSum` object:"
   ]
  },
  {
   "cell_type": "code",
   "execution_count": null,
   "metadata": {},
   "outputs": [],
   "source": [
    "@time Z = MinkowskiSum(X, Y)\n",
    "dump(Z)"
   ]
  },
  {
   "cell_type": "markdown",
   "metadata": {},
   "source": [
    "Alright, we can now at least represent that set. But when we want to use this result in further computations or even just for plotting, do we not hit the same wall again?\n",
    "\n",
    "Fortunately not, because there is a nice theoretical framework for convex sets that allows to perform effective computations for *lazy sets*. We will soon explore this concept, but first we have an appetizer by plotting the result of the Minkowski sum of the two sets:"
   ]
  },
  {
   "cell_type": "code",
   "execution_count": null,
   "metadata": {},
   "outputs": [],
   "source": [
    "p(X, lab=\"X\", leg=:topleft)\n",
    "p!(Y, lab=\"Y\")\n",
    "p!(Z, lab=\"X ⊕ Y\")\n",
    "\n",
    "# show the sums for each vertex\n",
    "#[p!(X + v, alpha=0.2) for v in vertices_list(Y)]\n",
    "#p!(Y + center(X), alpha=0.3)"
   ]
  },
  {
   "cell_type": "markdown",
   "metadata": {},
   "source": [
    "Needless to say, there are corresponding types for the other set operations as well: `Translation`, `LinearMap`, `AffineMap`, `ConvexHull`, `Intersection`, and `CartesianProduct`.\n",
    "\n",
    "Lazy sets can be nested arbitrarily:"
   ]
  },
  {
   "cell_type": "code",
   "execution_count": null,
   "metadata": {},
   "outputs": [],
   "source": [
    "W = Translation(MinkowskiSum(X, ConvexHull(Y, Z)), [-1.0, -1.0])\n",
    "@show typeof(W)\n",
    "\n",
    "p!(W)"
   ]
  },
  {
   "cell_type": "markdown",
   "metadata": {},
   "source": [
    "### Convenience operations"
   ]
  },
  {
   "cell_type": "markdown",
   "metadata": {},
   "source": [
    "Most of the lazy set types are binary and associative. To construct a lazy operation of multiple operands, `LazySets` offers constructs from a vector of sets. These have the same name with the additional suffix `Array`, as in `MinkowskiSumArray`."
   ]
  },
  {
   "cell_type": "code",
   "execution_count": null,
   "metadata": {},
   "outputs": [],
   "source": [
    "X = BallInf([1.0, 1.0], 0.5)\n",
    "Y = MinkowskiSum(MinkowskiSum(X, X), X)\n",
    "Z = MinkowskiSumArray([X, X, X])\n",
    "\n",
    "p(X, lab=\"X\", leg=:topleft)\n",
    "p!(Y, linealpha=0, linecolor=:white, lab=\"Y\")\n",
    "p!(Z, alpha=0, linealpha=1, linestyle=:dash, lab=\"Z\")"
   ]
  },
  {
   "cell_type": "markdown",
   "metadata": {},
   "source": [
    "There are also short-hands for the operators like in standard mathematical notation:\n",
    "- `X ⊕ Y` = `X + Y` = `MinkowskiSum(X, Y)`\n",
    "- `X + v` = `Translation(X, v)`\n",
    "- `M * X` = `LinearMap(M, X)`\n",
    "- `M * X + v` = `AffineMap(M, X, v)`\n",
    "- `CH(X, Y)` = `ConvexHull(X, Y)`\n",
    "- `X ∩ Y` = `Intersection(X, Y)`\n",
    "- `X × Y` = `CartesianProduct(X, Y)`"
   ]
  },
  {
   "cell_type": "code",
   "execution_count": null,
   "metadata": {},
   "outputs": [],
   "source": [
    "X = BallInf([1.0, 1.0], 0.5)\n",
    "Y = Ball2([3.0, 3.0], 1.0)\n",
    "Z = Interval(4.0, 5.0)\n",
    "M = [3 0; 0 0.5]\n",
    "v = [1.0, 1.0]\n",
    "\n",
    "p(leg=:outerright, xlims=(-2, 6))\n",
    "p!(X, lab=\"X\")\n",
    "p!(Y, lab=\"Y\")\n",
    "p!(Z, linewidth=7, color=:black, lab=\"Z\")\n",
    "p!(X ⊕ Y, lab=\"X ⊕ Y\")\n",
    "p!(X + v, lab=\"X + v\")\n",
    "p!(M * X, lab=\"M * X\")\n",
    "p!(M * X + v, lab=\"M * X + v\")\n",
    "p!(CH(X, Y), lab=\"CH(X, Y)\")\n",
    "p!(Z × Z, lab=\"Z × Z\")"
   ]
  },
  {
   "cell_type": "markdown",
   "metadata": {},
   "source": [
    "The function `concretize` creates a concrete set out of a lazy set, if possible."
   ]
  },
  {
   "cell_type": "code",
   "execution_count": null,
   "metadata": {},
   "outputs": [],
   "source": [
    "X = BallInf([1.0, 1.0], 0.5)\n",
    "\n",
    "Z = @show concretize(X ⊕ X)\n",
    "\n",
    "println()\n",
    "@show isequivalent(X ⊕ X, Z)\n",
    "\n",
    "p(X, lab=\"X\")\n",
    "p!(X ⊕ X, linealpha=0, linecolor=:white, lab=\"X ⊕ X\")\n",
    "p!(Z, alpha=0, linealpha=1, linestyle=:dash, lab=\"Z\")"
   ]
  },
  {
   "cell_type": "markdown",
   "metadata": {},
   "source": [
    "The lazy paradigm works well with one exception: *intersection*. We shall see this below."
   ]
  },
  {
   "cell_type": "markdown",
   "metadata": {},
   "source": [
    "---"
   ]
  },
  {
   "cell_type": "markdown",
   "metadata": {},
   "source": [
    "# Support-function calculus of convex sets"
   ]
  },
  {
   "cell_type": "markdown",
   "metadata": {},
   "source": [
    "Let $X \\subseteq \\mathbb{R}^n$ be a compact convex set. The *support function* of $X$ is the function $\\rho : \\mathbb{R}^n \\times 2^{\\mathbb{R}^n} \\to \\mathbb{R}$, defined as $\\rho(d, X) := \\max\\limits_{x \\in X} d^T x.$\n",
    "\n",
    "(In the literature, the support function is typically written as $\\rho_X(d)$.)\n",
    "\n",
    "The points $x \\in X$ that maximize $d^T x$ are called *support vectors* $\\sigma(d, X)$.\n",
    "\n",
    "Intuitively, the support vectors are the extreme points of $X$ in direction $d$ and the support function describes the (signed) distance of the supporting hyperplane $d^T x \\leq b = \\rho(d, X)$ from the origin. Below is an illustration of the concept."
   ]
  },
  {
   "cell_type": "code",
   "execution_count": null,
   "metadata": {},
   "outputs": [],
   "source": [
    "X = VPolygon([[0.8, 2.2], [2.1, 1], [1.9, -1], [0, -2],\n",
    "              [-2, -2], [-3, 0.6], [-0.8, 1.8], [0.8, 2.2]])\n",
    "d = [-1.0, 1.0]\n",
    "\n",
    "sv = @show σ(d, X)\n",
    "\n",
    "println()\n",
    "sf = @show ρ(d, X)\n",
    "\n",
    "H = HalfSpace(d, sf)\n",
    "\n",
    "p(xlim=(-6, 5), ylim=(-2.5, 2.5))\n",
    "p!(H, alpha=0.3)\n",
    "p!(X, color=:orange, lab=\"X\")\n",
    "p!(Singleton([0.0, 0.0]), color=:red, lab=\"origin\")\n",
    "p!([sv[1], sv[1] + d[1]], [sv[2], sv[2] + d[2]], linecolor=:red, arrow=:arrow,\n",
    "   linestyle=:dot, width=4, annotations=(-3.3, 1.5, text(\"d\", 20)))\n",
    "p!(Singleton(sv), alpha=1, color=:green, lab=\"support vector for d\")"
   ]
  },
  {
   "cell_type": "markdown",
   "metadata": {},
   "source": [
    "In `LazySets` we write `ρ(d, X)` (or `support_function(d, X)`) for the support function $\\rho(d, X)$ and `σ(d, X)` (or `support_vector(d, X)`) for (some) support vector $\\sigma(d, X)$.\n",
    "\n",
    "The following elementary properties of the support function hold for all compact convex sets $X$, $Y$ in $\\mathbb{R}^n$, for all $n\\times n$ real\n",
    "matrices $M$, all scalars $\\lambda \\in \\mathbb{R}$, and all vectors $d \\in \\mathbb{R}^n$:\n",
    "\n",
    "$$\n",
    "\\begin{aligned}\n",
    "\\quad \\rho(d, \\lambda X) &= \\rho(\\lambda d, X) \\\\[1mm]\n",
    "%\n",
    "\\quad \\rho(d, MX) &= \\rho(M^T d, X) \\\\[1mm]\n",
    "%\n",
    "\\quad \\rho(d, X \\oplus Y) &= \\rho(d, X) + \\rho(d, Y) \\\\[1mm]\n",
    "%\n",
    "\\quad \\rho(d, \\mathrm{CH}(X \\cup Y)) &= \\max(\\rho(d, X), \\rho(d, Y)) \\\\[1mm]\n",
    "%\n",
    "\\quad \\rho(d, X \\times Y) &= \\rho(d_1, X) + \\rho(d_2, Y)\n",
    "\\end{aligned}\n",
    "$$"
   ]
  },
  {
   "cell_type": "markdown",
   "metadata": {},
   "source": [
    "## Support function of the lazy intersection"
   ]
  },
  {
   "cell_type": "markdown",
   "metadata": {},
   "source": [
    "One operation is crucially missing above: the intersection $\\rho(d, X \\cap Y)$.\n",
    "\n",
    "We have the inequality $\\rho(d, X \\cap Y) \\leq \\min(\\rho(d, X), \\rho(d, Y))$, which sometimes works well."
   ]
  },
  {
   "cell_type": "code",
   "execution_count": null,
   "metadata": {},
   "outputs": [],
   "source": [
    "X = Ball2([2.5, 1.5], 1.0)\n",
    "Y = Ball2([1.5, 2.5], 1.0)\n",
    "Z = X ∩ Y\n",
    "\n",
    "p(X, lab=\"X\")\n",
    "p!(Y, lab=\"Y\")\n",
    "p!(Z, lab=\"X ∩ Y\")"
   ]
  },
  {
   "cell_type": "markdown",
   "metadata": {},
   "source": [
    "But sometimes this estimate is very coarse."
   ]
  },
  {
   "cell_type": "code",
   "execution_count": null,
   "metadata": {},
   "outputs": [],
   "source": [
    "# change the default to the \"min\" heuristics\n",
    "LazySets.use_precise_ρ(::Intersection) = false\n",
    "\n",
    "X = BallInf([1.0, 2.0], 0.5)\n",
    "Y = linear_map([1 0; -1 1], BallInf([2.0, 2.0], 1.0))\n",
    "Z = box_approximation(X ∩ Y)\n",
    "\n",
    "# change the default back\n",
    "LazySets.use_precise_ρ(::Intersection) = true\n",
    "\n",
    "p(X, lab=\"X\")\n",
    "p!(Y, lab=\"Y\")\n",
    "p!(Z, linestyle=:dash, linewidth=2, lab=\"approx(X ∩ Y)\")"
   ]
  },
  {
   "cell_type": "code",
   "execution_count": null,
   "metadata": {
    "scrolled": false
   },
   "outputs": [],
   "source": [
    "# change the default to the \"min\" heuristics\n",
    "LazySets.use_precise_ρ(::Intersection) = false\n",
    "\n",
    "X = VPolygon([[0.0, 3.0], [3.0, 1.0], [3.0, 3.0]])\n",
    "Y = VPolygon([[0.0, 0.0], [3.0, 0.0], [0.0, 2.0]]) ⊕ Ball2([0.0, 0.0], 0.0)\n",
    "Z = box_approximation(X ∩ Y)\n",
    "\n",
    "# change the default back\n",
    "LazySets.use_precise_ρ(::Intersection) = true\n",
    "\n",
    "p(X, lab=\"X\")\n",
    "p!(Y, lab=\"Y\")\n",
    "p!(Z, lab=\"approx(X ∩ Y)\")"
   ]
  },
  {
   "cell_type": "markdown",
   "metadata": {},
   "source": [
    "But there exist alternatives. The default implementation (if one of the sets is polyhedral) uses an optimization technique, for which we need to load [`Optim`](https://github.com/JuliaNLSolvers/Optim.jl)."
   ]
  },
  {
   "cell_type": "code",
   "execution_count": null,
   "metadata": {},
   "outputs": [],
   "source": [
    "using Optim"
   ]
  },
  {
   "cell_type": "code",
   "execution_count": null,
   "metadata": {
    "scrolled": false
   },
   "outputs": [],
   "source": [
    "X = BallInf([1.0, 2.0], 0.5)\n",
    "Y = linear_map([1 0; -1 1], BallInf([2.0, 2.0], 1.0))\n",
    "\n",
    "p(X, lab=\"X\")\n",
    "p!(Y, lab=\"Y\")\n",
    "p!(X ∩ Y, linestyle=:dash, linewidth=2, lab=\"X ∩ Y\")"
   ]
  },
  {
   "cell_type": "markdown",
   "metadata": {},
   "source": [
    "For polyhedral sets, intersections can also be computed explicitly by converting to H-rep, where the intersection is just the accumulation of the constraints. This is always exact."
   ]
  },
  {
   "cell_type": "markdown",
   "metadata": {},
   "source": [
    "## Overapproximation"
   ]
  },
  {
   "cell_type": "markdown",
   "metadata": {},
   "source": [
    "In some applications we do not require exact results but are content with an approximation. To still give mathematical guarantees, one usually aims for either over- or underapproximations.\n",
    "\n",
    "We can use the support function to get an overapproximation: For every nonempty compact convex set $X \\subseteq \\mathbb{R}^n$ and $D \\subseteq \\mathbb{R}^n$ we have\n",
    "\n",
    "$$\n",
    "X \\subseteq \\bigcap\\limits_{d \\in D} \\{d^T x \\leq \\rho(d, X)\\}\n",
    "$$\n",
    "\n",
    "and equality holds for $D = \\mathbb{R}^n$.\n",
    "\n",
    "`LazySets` offers the function `overapproximate`, which takes a set $X$ and a list of directions $D$. There are also other alternatives to passing $D$ directly."
   ]
  },
  {
   "cell_type": "code",
   "execution_count": null,
   "metadata": {},
   "outputs": [],
   "source": [
    "X = Ball2([2.0, 2.0], 1.0)\n",
    "D = [[1.0, 0.0],  # east\n",
    "     [1.0, 1.0],  # north east\n",
    "     [-1.0, 1.0],  # north west\n",
    "     [-1.0, 0.0],  # west\n",
    "     [-1.0, -1.0],  # south west\n",
    "     [1.0, -1.0]  # south east\n",
    "    ]\n",
    "Y = overapproximate(X, CustomDirections(D))\n",
    "\n",
    "p(X)\n",
    "p!(Y)"
   ]
  },
  {
   "cell_type": "markdown",
   "metadata": {},
   "source": [
    "By default we use $D$ as the axis-aligned box directions, which results in a box approximation (which can alternatively be computed with the `box_approximation` function)."
   ]
  },
  {
   "cell_type": "code",
   "execution_count": null,
   "metadata": {},
   "outputs": [],
   "source": [
    "Y = overapproximate(X)\n",
    "\n",
    "p(X)\n",
    "p!(Y)"
   ]
  },
  {
   "cell_type": "markdown",
   "metadata": {},
   "source": [
    "There are some additional convenience templates for $D$, such as octagon directions."
   ]
  },
  {
   "cell_type": "code",
   "execution_count": null,
   "metadata": {},
   "outputs": [],
   "source": [
    "Y = overapproximate(X, OctDirections)\n",
    "\n",
    "p(X)\n",
    "p!(Y)"
   ]
  },
  {
   "cell_type": "markdown",
   "metadata": {},
   "source": [
    "The maybe most interesting aspect is that we can compute an overapproximation with arbitrary precision. `LazySets` offers `overapproximate(X, ε)` to compute an ε-close (in the [Hausdorff distance](https://en.wikipedia.org/wiki/Hausdorff_distance)) overapproximation.\n",
    "    \n",
    "In two dimensions this can be achieved by starting from some fixed overapproximation (e.g., the box approximation) and then refining by adding directions \"between\" two neighboring directions until the gain in precision is below ε."
   ]
  },
  {
   "cell_type": "code",
   "execution_count": null,
   "metadata": {},
   "outputs": [],
   "source": [
    "B = Ball2([0.0, 0.0], 1.0)\n",
    "\n",
    "p1 = p(xlims=(-2, 1.2), ylims=(-1.2, 1.2))\n",
    "p!(p1, B, 1e-3, color=:blue, alpha=0.5)\n",
    "\n",
    "\n",
    "p2 = p(xlims=(-2, 1.2), ylims=(-1.2, 1.2))\n",
    "\n",
    "# initialize box directions\n",
    "DIR_EAST, DIR_NORTH, DIR_WEST, DIR_SOUTH = [1., 0.], [0., 1.], [-1., 0.], [0., -1.]\n",
    "pe, pn, pw, ps = σ(DIR_EAST, B), σ(DIR_NORTH, B), σ(DIR_WEST, B), σ(DIR_SOUTH, B)\n",
    "\n",
    "Ω = Approximations.PolygonalOverapproximation(B)\n",
    "Approximations.addapproximation!(Ω, ps, DIR_SOUTH, pe, DIR_EAST)\n",
    "Approximations.addapproximation!(Ω, pw, DIR_WEST, ps, DIR_SOUTH)\n",
    "Approximations.addapproximation!(Ω, pn, DIR_NORTH, pw, DIR_WEST)\n",
    "Approximations.addapproximation!(Ω, pe, DIR_EAST, pn, DIR_NORTH)\n",
    "\n",
    "p!(p2, Approximations.tohrep(Ω), alpha=0.5, color=\"green\")\n",
    "p!(p2, B, 1e-3, color=:blue, alpha=0.5)\n",
    "\n",
    "\n",
    "approx = pop!(Ω.approx_stack)\n",
    "(r1, r2) = Approximations.refine(approx, Ω.S)\n",
    "push!(Ω.approx_stack, r2)\n",
    "push!(Ω.approx_stack, r1)\n",
    "\n",
    "p3 = p(xlims=(-2, 1.2), ylims=(-1.2, 1.2))\n",
    "p!(p3, Approximations.tohrep(Ω), alpha=0.5, color=\"green\")\n",
    "p!(p3, B, 1e-3, color=:blue, alpha=0.5)\n",
    "\n",
    "\n",
    "approx = pop!(Ω.approx_stack)\n",
    "(r1, r2) = Approximations.refine(approx, Ω.S)\n",
    "push!(Ω.approx_stack, r2)\n",
    "push!(Ω.approx_stack, r1)\n",
    "\n",
    "p4 = p(xlims=(-2, 1.2), ylims=(-1.2, 1.2))\n",
    "p!(p4, Approximations.tohrep(Ω), alpha=0.5, color=\"green\")\n",
    "p!(p4, B, 1e-3, color=:blue, alpha=0.5)\n",
    "\n",
    "plot(p1, p2, p3, p4, layout=(2, 2))"
   ]
  },
  {
   "cell_type": "markdown",
   "metadata": {},
   "source": [
    "This is actually what happens under the hood when plotting a set. For example, instead of an actual Euclidean ball, we compute a high-resolution polygon and plot that. By default we use ε = 0.001."
   ]
  },
  {
   "cell_type": "code",
   "execution_count": null,
   "metadata": {
    "scrolled": false
   },
   "outputs": [],
   "source": [
    "B = Ball2([1.0, 1.0], 1.0)\n",
    "ε = 0.01\n",
    "\n",
    "PB = overapproximate(B, ε)\n",
    "println(\"using $(length(constraints_list(PB))) constraints\")\n",
    "\n",
    "p(B, ε)  # one can directly pass the precision to the plot function\n",
    "lens!([1.63, 1.645], [1.76, 1.79], inset = (1, bbox(0.4, 0.0, 0.4, 0.4)))"
   ]
  },
  {
   "cell_type": "markdown",
   "metadata": {},
   "source": [
    "## Underapproximation"
   ]
  },
  {
   "cell_type": "markdown",
   "metadata": {},
   "source": [
    "There is a very simple way to underapproximate convex sets: pick any points inside the set and compute the convex hull. The choice of these points can be made such that the algorithm converges to the true set by following a similar idea as for the overapproximation: choose some directions and compute some (remember that in general they are not unique) support vector in these directions."
   ]
  },
  {
   "cell_type": "code",
   "execution_count": null,
   "metadata": {},
   "outputs": [],
   "source": [
    "B = Ball2([2.0, 2.0], 1.0)\n",
    "Pb = underapproximate(B, BoxDirections(2))\n",
    "Po = underapproximate(B, OctDirections(2))\n",
    "\n",
    "p(B, lab=\"B\")\n",
    "p!(Po, lab=\"ua(B, oct)\")\n",
    "p!(Pb, lab=\"ua(B, box)\")"
   ]
  },
  {
   "cell_type": "markdown",
   "metadata": {},
   "source": [
    "---"
   ]
  },
  {
   "cell_type": "markdown",
   "metadata": {},
   "source": [
    "# Other aspects of `LazySets`"
   ]
  },
  {
   "cell_type": "markdown",
   "metadata": {},
   "source": [
    "## Useful operations on sets"
   ]
  },
  {
   "cell_type": "markdown",
   "metadata": {},
   "source": [
    "So far we have mainly seen operations that convert sets into new sets. Other useful operations on sets are the output of the dimension, checks for membership or emptiness, and sampling."
   ]
  },
  {
   "cell_type": "code",
   "execution_count": null,
   "metadata": {},
   "outputs": [],
   "source": [
    "X = Ball1([1.5, 1.5], 1.5)\n",
    "Y = 1.0 * BallInf([2.5, 2.5], 2/3)\n",
    "\n",
    "z = [2.7, 2.6]\n",
    "Z = Singleton(z)\n",
    "\n",
    "# dimension\n",
    "@show dim(X)\n",
    "@show dim(Y)\n",
    "\n",
    "# membership\n",
    "println()\n",
    "@show z ∈ X\n",
    "@show z ∈ Y\n",
    "\n",
    "# emptiness\n",
    "println()\n",
    "@show isempty(X ∩ Y)\n",
    "@show isempty(X ∩ Z)\n",
    "\n",
    "# disjointness\n",
    "println()\n",
    "@show isdisjoint(X, Y)\n",
    "@show isdisjoint(X, Z)\n",
    "\n",
    "p(X, lab=\"X\")\n",
    "p!(Y, lab=\"Y\")\n",
    "p!(Z, lab=\"Z\", color=:red)"
   ]
  },
  {
   "cell_type": "code",
   "execution_count": null,
   "metadata": {},
   "outputs": [],
   "source": [
    "# sampling\n",
    "samplesX = sample(X, 100)\n",
    "samplesXY = sample(X ∩ Y, 30)\n",
    "\n",
    "p(X, lab=\"X\")\n",
    "p!(Y, lab=\"Y\")\n",
    "[p!(Singleton(s), color=:green, lab=\"\") for s in samplesX]\n",
    "[p!(Singleton(s), color=:purple, lab=\"\") for s in samplesXY]\n",
    "p!()"
   ]
  },
  {
   "cell_type": "markdown",
   "metadata": {},
   "source": [
    "## Type hierarchy in `LazySets`"
   ]
  },
  {
   "cell_type": "markdown",
   "metadata": {},
   "source": [
    "The LazySets type hierarchy is very rich and overall a compromise between what information can be encoded in a type and what is value-dependent.\n",
    "\n",
    "We use abstract types as interfaces in order to share common code. Implementing subtypes need to provide a few interface methods and then get most of the functionality for free. More efficient implementations are often possible for specific set types of course.\n",
    "\n",
    "The actual type hierarchy would be an acyclic graph (a set can be centrally symmetric and a polytope), but since Julia requires a tree (no multiple inheritance), we use a hack by copying a few methods."
   ]
  },
  {
   "attachments": {
    "lazysets_interfaces.png": {
     "image/png": "[encoded data removed]"
    }
   },
   "cell_type": "markdown",
   "metadata": {},
   "source": [
    "![lazysets_interfaces.png](attachment:lazysets_interfaces.png)"
   ]
  },
  {
   "cell_type": "markdown",
   "metadata": {},
   "source": [
    "Overall there are 44 (convex) set types (26 concrete and 18 lazy) plus a few more non-convex set types."
   ]
  },
  {
   "cell_type": "code",
   "execution_count": null,
   "metadata": {
    "scrolled": false
   },
   "outputs": [],
   "source": [
    "println(\"=== Concrete set types ===\\n\")\n",
    "for S in subtypes(LazySet, true)\n",
    "    if !isoperationtype(S)\n",
    "        println(S)\n",
    "    end\n",
    "end\n",
    "println(\"\\n=== Lazy set types ===\\n\")\n",
    "for S in subtypes(LazySet, true)\n",
    "    if isoperationtype(S)\n",
    "        println(S)\n",
    "    end\n",
    "end"
   ]
  },
  {
   "cell_type": "markdown",
   "metadata": {},
   "source": [
    "`LazySets` requires that a set implements at least the `LazySet` interface (which needs an implementation for `dim` and `ρ`/`σ`). Because of that, one needs to use wrappers around structs from other packages. For example, `Interval` is a wrapper around `IntervalArithmetic.Interval` (which may cause confusion)."
   ]
  },
  {
   "cell_type": "markdown",
   "metadata": {},
   "source": [
    "## Numerical tolerance"
   ]
  },
  {
   "cell_type": "markdown",
   "metadata": {},
   "source": [
    "All `LazySets` set types are parametric in the numeric type and we try to preserve them in all operations. Known conversions to `Float64` happen when using an LP solver (typically when working with polytopes)."
   ]
  },
  {
   "cell_type": "code",
   "execution_count": null,
   "metadata": {
    "scrolled": false
   },
   "outputs": [],
   "source": [
    "X = BallInf([1//1, 1//1], 1//1)\n",
    "Y = BallInf([2//1, 2//1], 1//1)\n",
    "Z = intersection(X, Y)\n",
    "dump(Z)\n",
    "\n",
    "p(X, lab=\"X\")\n",
    "p!(Y, lab=\"Y\")\n",
    "p!(Z, lab=\"Z\")"
   ]
  },
  {
   "cell_type": "markdown",
   "metadata": {},
   "source": [
    "Operations with floating-point numbers may yield results that differ from the expected result due to precision problems. Generally one should avoid working with flat sets or very small/large values. The tolerance used in many `LazySets` operations can be controlled via the (unexported) functions `set_atol` (absolute tolerance), `set_rtol` (relative tolerance), and `set_ztol` (tolerance when comparing to zero)."
   ]
  },
  {
   "cell_type": "code",
   "execution_count": null,
   "metadata": {},
   "outputs": [],
   "source": [
    "polygon() = VPolygon([[1.0, 1.0], [1.000000001, 1.0]])\n",
    "\n",
    "# default relative tolerance\n",
    "@show LazySets._rtol(Float64)\n",
    "\n",
    "P1 = polygon()\n",
    "\n",
    "@show vertices_list(P1)\n",
    "\n",
    "# increase relative tolerance\n",
    "LazySets.set_rtol(Float64, 1e-9)\n",
    "\n",
    "P2 = polygon()\n",
    "\n",
    "@show vertices_list(P2)\n",
    "\n",
    "p(xlims=(0.9999999985, 1.000000002), ylims=(0.9999999985, 1.000000002))\n",
    "p!(P1)\n",
    "p!(P2)\n",
    "\n",
    "# reset relative tolerance to default\n",
    "LazySets.set_tolerance(Float64)\n",
    "\n",
    "p!()"
   ]
  },
  {
   "cell_type": "markdown",
   "metadata": {},
   "source": [
    "## Optional dependencies"
   ]
  },
  {
   "cell_type": "markdown",
   "metadata": {},
   "source": [
    "`LazySets` uses [`Requires`](https://github.com/JuliaPackaging/Requires.jl) to add further functionality depending on whether some external packages are loaded. Here we quickly list the currently available packages. Some `LazySets` functionality prints instructive error messages when the corresponding packages are not loaded but are required by the code.\n",
    "\n",
    "- [`Polyhedra`](https://github.com/JuliaPolyhedra/Polyhedra.jl): An interface for polyhedral computations and LP solvers. This is required for polyhedral computations in three or more dimensions.\n",
    "- [`CDDLib`](https://github.com/JuliaPolyhedra/CDDLib.jl): A double-description method. For some operations we use this solver as the default, which is why a user may see this as a requirement. Alternatively, a custom solver can be passed to the operations.\n",
    "- [`Optim`](https://github.com/JuliaNLSolvers/Optim.jl): Optimization package. Mainly used for computations with lazy intersections.\n",
    "- [`Symbolics`](https://github.com/JuliaSymbolics/Symbolics.jl): Symbolic algebra. Used to conveniently construct polyhedral sets.\n",
    "- [`StaticArrays`](https://github.com/JuliaArrays/StaticArrays.jl): Efficient, statically-sized arrays. Constructing sets with static arrays gives an additional boost in low dimensions.\n",
    "- [`Distributions`](https://github.com/JuliaStats/Distributions.jl): Distributions used in probability theory. Allows to sample from sets in a non-uniform way.\n",
    "- [`Makie`](https://github.com/JuliaPlots/Makie.jl): Plotting of 3D meshes.\n",
    "- [`Expokit`](https://github.com/acroy/Expokit.jl): Lazy matrix exponential. Used for the `ExponentialMap` set type (linear map $\\Phi X$ where $\\Phi = e^M$).\n",
    "- [`MiniQhull`](https://github.com/gridap/MiniQhull.jl): Delaunay triangulation.\n",
    "- [`Javis`](https://github.com/Wikunia/Javis.jl): Smooth animations. We recently added some convenience functionality to ease the integration."
   ]
  },
  {
   "cell_type": "markdown",
   "metadata": {},
   "source": [
    "---"
   ]
  },
  {
   "cell_type": "markdown",
   "metadata": {},
   "source": [
    "# Outlook"
   ]
  },
  {
   "cell_type": "markdown",
   "metadata": {},
   "source": [
    "Some background information: `LazySets` started as a library for a reachability package for implementing an algorithm from a research project in 2017. Meanwhile the package consists of (at the time of writing) 119 source files with almost 26k LOC, 64 test files with over 5k LOC, and 66 markdown files with over 4k LOC, and is mainly being developed by [@mforets](https://github.com/mforets) and [@schillic](https://github.com/schillic), with contributions from 13 other people, including two JSoC/GSoC students. It was used in 12 research articles.\n",
    "\n",
    "Set computations often do not allow for typical tricks you would expect to see in a Julia package. For instance, when working with generic polyhedra, there is very little structure, so most information cannot be statically inferred and needs to be computed from the concrete values (such as whether the polyhedron is empty). That is why there are so many set types: to bring in more structure for algorithms and dispatch. With that amount of possible type combinations we clearly do not have (and will never have) optimized code in all cases. Some code is already highly optimized, while other parts only use a naive fallback implementation (`LazySets` typically wants to give a slow result rather than none). For specific use cases one can often elicit speed-ups within several orders of magnitude by adding new methods."
   ]
  }
 ],
 "metadata": {
  "kernelspec": {
   "display_name": "Julia 1.6.0",
   "language": "julia",
   "name": "julia-1.6"
  },
  "language_info": {
   "file_extension": ".jl",
   "mimetype": "application/julia",
   "name": "julia",
   "version": "1.6.0"
  }
 },
 "nbformat": 4,
 "nbformat_minor": 5
}
